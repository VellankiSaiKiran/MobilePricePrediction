{
  "nbformat": 4,
  "nbformat_minor": 0,
  "metadata": {
    "colab": {
      "name": "MobilePricePrediction.ipynb",
      "provenance": [],
      "collapsed_sections": []
    },
    "kernelspec": {
      "name": "python3",
      "display_name": "Python 3"
    }
  },
  "cells": [
    {
      "cell_type": "code",
      "metadata": {
        "id": "FzzFE04x7TbZ",
        "colab_type": "code",
        "colab": {}
      },
      "source": [
        "!pip install selenium\n",
        "!sudo apt-get update\n",
        "!apt install chromium-chromedriver\n",
        "import sys\n",
        "sys.path.insert(0,'/usr/lib/chromium-browser/chromedriver')\n",
        "from selenium import webdriver \n",
        "c_op = webdriver.ChromeOptions()\n",
        "c_op.add_argument('--headless')\n",
        "c_op.add_argument('--no-sandbox')\n",
        "c_op.add_argument('--disable-dev-shm-usage')\n",
        "wd = webdriver.Chrome('chromedriver',chrome_options=c_op)"
      ],
      "execution_count": 0,
      "outputs": []
    },
    {
      "cell_type": "code",
      "metadata": {
        "id": "ljGPvG_WBX7g",
        "colab_type": "code",
        "colab": {}
      },
      "source": [
        "wd.get('https://www.flipkart.com/mobiles/mi~brand/pr?sid=tyy%2C4io&otracker=nmenu_sub_Electronics_0_Mi&page=1')\n",
        "wd.title"
      ],
      "execution_count": 0,
      "outputs": []
    },
    {
      "cell_type": "code",
      "metadata": {
        "id": "U2aYf0pNCfRA",
        "colab_type": "code",
        "colab": {}
      },
      "source": [
        "ram = []\n",
        "mem = []\n",
        "price = []\n",
        "\n",
        "while len(ram)<=200:\n",
        "  char = wd.find_elements_by_class_name(\"tVe95H\")\n",
        "\n",
        "  for i in char:\n",
        "    temp = i.text.split()\n",
        "    if 'RAM' in temp and 'ROM' in temp:\n",
        "      ram.append(int(temp[temp.index('RAM')-2]))\n",
        "      mem.append(int(temp[temp.index('ROM')-2]))\n",
        "\n",
        "  p = wd.find_elements_by_xpath('//*[@class=\"_1vC4OE _2rQ-NK\"]')\n",
        "  for i in p:\n",
        "    price.append(int(i.text[1:].replace(',',''))) #12999\n",
        "\n",
        "  wd.get(wd.find_element_by_class_name(\"_3fVaIS\").get_attribute('href'))\n"
      ],
      "execution_count": 0,
      "outputs": []
    },
    {
      "cell_type": "code",
      "metadata": {
        "colab_type": "code",
        "outputId": "aadaf508-a238-451d-8143-4d2abac8bc3f",
        "id": "xWgLlMhaZ2cR",
        "colab": {
          "base_uri": "https://localhost:8080/",
          "height": 34
        }
      },
      "source": [
        "print(len(ram),len(mem),len(price))"
      ],
      "execution_count": 159,
      "outputs": [
        {
          "output_type": "stream",
          "text": [
            "216 216 216\n"
          ],
          "name": "stdout"
        }
      ]
    },
    {
      "cell_type": "code",
      "metadata": {
        "id": "EXq6NBrK6liT",
        "colab_type": "code",
        "colab": {
          "base_uri": "https://localhost:8080/",
          "height": 34
        },
        "outputId": "0b874f78-0620-40c4-b9f8-a5c60c58fcd5"
      },
      "source": [
        "\n",
        "\n"
      ],
      "execution_count": 180,
      "outputs": [
        {
          "output_type": "stream",
          "text": [
            "216\n"
          ],
          "name": "stdout"
        }
      ]
    },
    {
      "cell_type": "code",
      "metadata": {
        "id": "KcrnRvoh_5KF",
        "colab_type": "code",
        "colab": {}
      },
      "source": [
        "import numpy as np\n",
        "x= np.array((ram,mem)).T\n",
        "y = np.array (price)\n"
      ],
      "execution_count": 0,
      "outputs": []
    },
    {
      "cell_type": "code",
      "metadata": {
        "id": "TE9LOlQrP3J2",
        "colab_type": "code",
        "colab": {}
      },
      "source": [
        "from sklearn.model_selection import train_test_split\n",
        "from sklearn.linear_model import LinearRegression\n",
        "x_train,x_test,y_train,y_test = train_test_split(x,y,test_size=0.2)\n"
      ],
      "execution_count": 0,
      "outputs": []
    },
    {
      "cell_type": "code",
      "metadata": {
        "id": "CeVcH7E9RrYb",
        "colab_type": "code",
        "colab": {}
      },
      "source": [
        "import pandas as pd\n",
        "X_Train = pd.DataFrame(x_train , columns=['RAM','ROM'])\n",
        "X_Test = pd.DataFrame(x_test , columns=['RAM','ROM'])\n",
        "Y_Train = pd.DataFrame(y_train , columns=['PRICE'])\n",
        "Y_Test = pd.DataFrame(y_test , columns=['PRICE'])"
      ],
      "execution_count": 0,
      "outputs": []
    },
    {
      "cell_type": "code",
      "metadata": {
        "id": "PuCttGU2SkrA",
        "colab_type": "code",
        "colab": {}
      },
      "source": [
        "print(X_Train.head())\n",
        "print(X_Test.head())\n",
        "print(Y_Train.head())\n",
        "print(Y_Test.head())\n"
      ],
      "execution_count": 0,
      "outputs": []
    },
    {
      "cell_type": "code",
      "metadata": {
        "id": "g5c6n8zwS9RD",
        "colab_type": "code",
        "colab": {
          "base_uri": "https://localhost:8080/",
          "height": 50
        },
        "outputId": "2de7e357-e5e2-40cd-82b7-35f756c7e137"
      },
      "source": [
        "lm = LinearRegression()\n",
        "lm.fit(X_Train,Y_Train)\n",
        "print(lm.intercept_)\n",
        "print(lm.coef_)\n"
      ],
      "execution_count": 208,
      "outputs": [
        {
          "output_type": "stream",
          "text": [
            "[3185.40811622]\n",
            "[[721.49039085  85.28625553]]\n"
          ],
          "name": "stdout"
        }
      ]
    },
    {
      "cell_type": "code",
      "metadata": {
        "id": "gXeDIdRoUlVY",
        "colab_type": "code",
        "colab": {
          "base_uri": "https://localhost:8080/",
          "height": 106
        },
        "outputId": "483a6ed9-5be8-4587-f991-a490d01f44f5"
      },
      "source": [
        "cdf = pd.DataFrame(data=lm.coef_.reshape(2,1),index = X_Train.columns,columns=['Coeff'])\n",
        "cdf"
      ],
      "execution_count": 209,
      "outputs": [
        {
          "output_type": "execute_result",
          "data": {
            "text/html": [
              "<div>\n",
              "<style scoped>\n",
              "    .dataframe tbody tr th:only-of-type {\n",
              "        vertical-align: middle;\n",
              "    }\n",
              "\n",
              "    .dataframe tbody tr th {\n",
              "        vertical-align: top;\n",
              "    }\n",
              "\n",
              "    .dataframe thead th {\n",
              "        text-align: right;\n",
              "    }\n",
              "</style>\n",
              "<table border=\"1\" class=\"dataframe\">\n",
              "  <thead>\n",
              "    <tr style=\"text-align: right;\">\n",
              "      <th></th>\n",
              "      <th>Coeff</th>\n",
              "    </tr>\n",
              "  </thead>\n",
              "  <tbody>\n",
              "    <tr>\n",
              "      <th>RAM</th>\n",
              "      <td>721.490391</td>\n",
              "    </tr>\n",
              "    <tr>\n",
              "      <th>ROM</th>\n",
              "      <td>85.286256</td>\n",
              "    </tr>\n",
              "  </tbody>\n",
              "</table>\n",
              "</div>"
            ],
            "text/plain": [
              "          Coeff\n",
              "RAM  721.490391\n",
              "ROM   85.286256"
            ]
          },
          "metadata": {
            "tags": []
          },
          "execution_count": 209
        }
      ]
    },
    {
      "cell_type": "code",
      "metadata": {
        "id": "fkyeH_9OVMSN",
        "colab_type": "code",
        "colab": {
          "base_uri": "https://localhost:8080/",
          "height": 282
        },
        "outputId": "823d85cb-39af-47cb-9083-3ff2cb6c4796"
      },
      "source": [
        "import matplotlib.pyplot as plt\n",
        "predictions = lm.predict(X_Test)\n",
        "plt.scatter(Y_Test,predictions)"
      ],
      "execution_count": 211,
      "outputs": [
        {
          "output_type": "execute_result",
          "data": {
            "text/plain": [
              "<matplotlib.collections.PathCollection at 0x7f23d1a7f198>"
            ]
          },
          "metadata": {
            "tags": []
          },
          "execution_count": 211
        },
        {
          "output_type": "display_data",
          "data": {
            "image/png": "[encoded data removed]",
            "text/plain": [
              "<Figure size 432x288 with 1 Axes>"
            ]
          },
          "metadata": {
            "tags": [],
            "needs_background": "light"
          }
        }
      ]
    },
    {
      "cell_type": "code",
      "metadata": {
        "id": "WHi9JdHVVzXJ",
        "colab_type": "code",
        "colab": {
          "base_uri": "https://localhost:8080/",
          "height": 50
        },
        "outputId": "664725f8-a586-4357-a909-92379632f28a"
      },
      "source": [
        "from sklearn import metrics\n",
        "print('MAE:', metrics.mean_absolute_error(Y_Test, predictions))\n",
        "print('RMSE:', np.sqrt(metrics.mean_squared_error(Y_Test,predictions)))"
      ],
      "execution_count": 214,
      "outputs": [
        {
          "output_type": "stream",
          "text": [
            "MAE: 2212.2235158514104\n",
            "RMSE: 3233.7444683933654\n"
          ],
          "name": "stdout"
        }
      ]
    },
    {
      "cell_type": "code",
      "metadata": {
        "id": "JjkJQzaBWZ1J",
        "colab_type": "code",
        "colab": {}
      },
      "source": [
        ""
      ],
      "execution_count": 0,
      "outputs": []
    }
  ]
}